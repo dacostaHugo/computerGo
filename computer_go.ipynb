{
  "nbformat": 4,
  "nbformat_minor": 0,
  "metadata": {
    "colab": {
      "name": "DACOSTA_FLEURY.ipynb",
      "provenance": [],
      "collapsed_sections": [
        "uIiNZSqIswoV",
        "KE5wuAIjP_vs",
        "yZZflkTDFo1g",
        "u5jKQcdWHMGn",
        "weRwo1sjAx3-",
        "ZB_onVjGMIUr",
        "O944dGiNqEko"
      ]
    },
    "kernelspec": {
      "display_name": "Python 3",
      "language": "python",
      "name": "python3"
    },
    "language_info": {
      "codemirror_mode": {
        "name": "ipython",
        "version": 3
      },
      "file_extension": ".py",
      "mimetype": "text/x-python",
      "name": "python",
      "nbconvert_exporter": "python",
      "pygments_lexer": "ipython3",
      "version": "3.8.5"
    },
    "accelerator": "GPU"
  },
  "cells": [
    {
      "cell_type": "markdown",
      "metadata": {
        "id": "vJqa_18frtf_"
      },
      "source": [
        "# Deep Learning : Computer Go\n",
        "\n",
        "### Hugo DA COSTA, Tiago FLEURY"
      ]
    },
    {
      "cell_type": "markdown",
      "metadata": {
        "id": "uIiNZSqIswoV"
      },
      "source": [
        "# 1. Pre installation et commandes"
      ]
    },
    {
      "cell_type": "markdown",
      "metadata": {
        "id": "KE5wuAIjP_vs"
      },
      "source": [
        "## Type de GPU :"
      ]
    },
    {
      "cell_type": "markdown",
      "metadata": {
        "id": "zU4JJt7ZVEwG"
      },
      "source": [
        "temps pour epoch de 80 000 samples (batch = 256)\r\n",
        "\r\n",
        "Tesla P100-PCIE-16GB : 130 ms  \r\n",
        "Tesla T4 : 240 ms  \r\n",
        "Tesla K80 : 538 ms\r\n"
      ]
    },
    {
      "cell_type": "code",
      "metadata": {
        "colab": {
          "base_uri": "https://localhost:8080/"
        },
        "id": "JY9Wn5NuP-2p",
        "outputId": "dbdb8a51-5110-4a9f-8e1a-92d8e1ee1f91"
      },
      "source": [
        "!nvidia-smi -L"
      ],
      "execution_count": null,
      "outputs": [
        {
          "output_type": "stream",
          "text": [
            "GPU 0: Tesla T4 (UUID: GPU-30297e83-80fd-9354-3339-12897273eb98)\n"
          ],
          "name": "stdout"
        }
      ]
    },
    {
      "cell_type": "markdown",
      "metadata": {
        "id": "yZZflkTDFo1g"
      },
      "source": [
        "## Installation et telechargement"
      ]
    },
    {
      "cell_type": "code",
      "metadata": {
        "id": "ks7AjhAto2dV"
      },
      "source": [
        "!cp /content/drive/MyDrive/Fac/\"a M2 IASD\"/\"Deep Learning\"/\"Projet hutia-gogo\"/project.zip ./"
      ],
      "execution_count": null,
      "outputs": []
    },
    {
      "cell_type": "code",
      "metadata": {
        "id": "NxriQ793publ",
        "colab": {
          "base_uri": "https://localhost:8080/"
        },
        "outputId": "06c424b3-0575-4884-f962-c749ca4f9838"
      },
      "source": [
        "!unzip project.zip\n",
        "!mv ./project/* ./"
      ],
      "execution_count": null,
      "outputs": [
        {
          "output_type": "stream",
          "text": [
            "Archive:  project.zip\n",
            "  inflating: project/Board.h         \n",
            "  inflating: project/compileMAC.sh   \n",
            "  inflating: project/compile.sh      \n",
            "  inflating: project/Game.h          \n",
            "  inflating: project/games.data      \n",
            "  inflating: project/golois.cpp      \n",
            "  inflating: project/golois.cpython-38-x86_64-linux-gnu.so  \n",
            "  inflating: project/golois.py       \n",
            "  inflating: project/importGolois.ipynb  \n",
            "  inflating: project/README          \n",
            "  inflating: project/Rzone.h         \n",
            "  inflating: project/test.h5         \n",
            "  inflating: project/validation.data  \n"
          ],
          "name": "stdout"
        }
      ]
    },
    {
      "cell_type": "code",
      "metadata": {
        "colab": {
          "base_uri": "https://localhost:8080/"
        },
        "id": "pcaX1WNYN9Ss",
        "outputId": "59d277f5-6f59-4509-a633-6381f85c0520"
      },
      "source": [
        "!pip install pybind11==2.6.0\r\n",
        "\r\n",
        "!pip show pybind11\r\n"
      ],
      "execution_count": null,
      "outputs": [
        {
          "output_type": "stream",
          "text": [
            "Collecting pybind11==2.6.0\n",
            "\u001b[?25l  Downloading https://files.pythonhosted.org/packages/92/a5/796ccb611a92cbdf1f6eaa9b2ec9458d5784a7b909efdf8e8afaa3861783/pybind11-2.6.0-py2.py3-none-any.whl (187kB)\n",
            "\r\u001b[K     |█▊                              | 10kB 21.2MB/s eta 0:00:01\r\u001b[K     |███▌                            | 20kB 19.7MB/s eta 0:00:01\r\u001b[K     |█████▎                          | 30kB 16.5MB/s eta 0:00:01\r\u001b[K     |███████                         | 40kB 13.7MB/s eta 0:00:01\r\u001b[K     |████████▊                       | 51kB 16.0MB/s eta 0:00:01\r\u001b[K     |██████████▌                     | 61kB 13.5MB/s eta 0:00:01\r\u001b[K     |████████████▎                   | 71kB 13.3MB/s eta 0:00:01\r\u001b[K     |██████████████                  | 81kB 14.6MB/s eta 0:00:01\r\u001b[K     |███████████████▊                | 92kB 14.6MB/s eta 0:00:01\r\u001b[K     |█████████████████▌              | 102kB 14.9MB/s eta 0:00:01\r\u001b[K     |███████████████████▎            | 112kB 14.9MB/s eta 0:00:01\r\u001b[K     |█████████████████████           | 122kB 14.9MB/s eta 0:00:01\r\u001b[K     |██████████████████████▊         | 133kB 14.9MB/s eta 0:00:01\r\u001b[K     |████████████████████████▌       | 143kB 14.9MB/s eta 0:00:01\r\u001b[K     |██████████████████████████▎     | 153kB 14.9MB/s eta 0:00:01\r\u001b[K     |████████████████████████████    | 163kB 14.9MB/s eta 0:00:01\r\u001b[K     |█████████████████████████████▊  | 174kB 14.9MB/s eta 0:00:01\r\u001b[K     |███████████████████████████████▌| 184kB 14.9MB/s eta 0:00:01\r\u001b[K     |████████████████████████████████| 194kB 14.9MB/s \n",
            "\u001b[?25hInstalling collected packages: pybind11\n",
            "Successfully installed pybind11-2.6.0\n",
            "Name: pybind11\n",
            "Version: 2.6.0\n",
            "Summary: Seamless operability between C++11 and Python\n",
            "Home-page: https://github.com/pybind/pybind11\n",
            "Author: Wenzel Jakob\n",
            "Author-email: wenzel.jakob@epfl.ch\n",
            "License: BSD\n",
            "Location: /usr/local/lib/python3.7/dist-packages\n",
            "Requires: \n",
            "Required-by: \n"
          ],
          "name": "stdout"
        }
      ]
    },
    {
      "cell_type": "code",
      "metadata": {
        "id": "SNxDy5hTfHs_",
        "colab": {
          "base_uri": "https://localhost:8080/"
        },
        "outputId": "52408243-9349-4c58-e262-446c00b1ec41"
      },
      "source": [
        "!pip uninstall pybind11\n",
        "!pip install pybind11==2.6.0\n",
        "!chmod 777 ./compile.sh\n",
        "!./compile.sh"
      ],
      "execution_count": null,
      "outputs": [
        {
          "output_type": "stream",
          "text": [
            "Uninstalling pybind11-2.6.0:\n",
            "  Would remove:\n",
            "    /usr/local/bin/pybind11-config\n",
            "    /usr/local/lib/python3.7/dist-packages/pybind11-2.6.0.dist-info/*\n",
            "    /usr/local/lib/python3.7/dist-packages/pybind11/*\n",
            "Proceed (y/n)? y\n",
            "  Successfully uninstalled pybind11-2.6.0\n",
            "Collecting pybind11==2.6.0\n",
            "  Using cached https://files.pythonhosted.org/packages/92/a5/796ccb611a92cbdf1f6eaa9b2ec9458d5784a7b909efdf8e8afaa3861783/pybind11-2.6.0-py2.py3-none-any.whl\n",
            "Installing collected packages: pybind11\n",
            "Successfully installed pybind11-2.6.0\n",
            "In file included from \u001b[01m\u001b[Kgolois.cpp:17:0\u001b[m\u001b[K:\n",
            "\u001b[01m\u001b[KBoard.h:\u001b[m\u001b[K In member function ‘\u001b[01m\u001b[Kbool Board::isCapturedLadder(int, int, Rzone*)\u001b[m\u001b[K’:\n",
            "\u001b[01m\u001b[KBoard.h:1748:8:\u001b[m\u001b[K \u001b[01;35m\u001b[Kwarning: \u001b[m\u001b[Kunused variable ‘\u001b[01m\u001b[Kn1\u001b[m\u001b[K’ [\u001b[01;35m\u001b[K-Wunused-variable\u001b[m\u001b[K]\n",
            "    int \u001b[01;35m\u001b[Kn1\u001b[m\u001b[K = nbLiberties (inter, liberties1, stones1, 3);\n",
            "        \u001b[01;35m\u001b[K^~\u001b[m\u001b[K\n",
            "\u001b[01m\u001b[KBoard.h:1769:12:\u001b[m\u001b[K \u001b[01;35m\u001b[Kwarning: \u001b[m\u001b[Kunused variable ‘\u001b[01m\u001b[Kn1\u001b[m\u001b[K’ [\u001b[01;35m\u001b[K-Wunused-variable\u001b[m\u001b[K]\n",
            "        int \u001b[01;35m\u001b[Kn1\u001b[m\u001b[K = nbLiberties (inter, liberties1, stones1, 3);\n",
            "            \u001b[01;35m\u001b[K^~\u001b[m\u001b[K\n",
            "\u001b[01m\u001b[KBoard.h:\u001b[m\u001b[K In member function ‘\u001b[01m\u001b[Kvoid Board::computeLadders(int)\u001b[m\u001b[K’:\n",
            "\u001b[01m\u001b[KBoard.h:1800:9:\u001b[m\u001b[K \u001b[01;35m\u001b[Kwarning: \u001b[m\u001b[Kunused variable ‘\u001b[01m\u001b[Kother\u001b[m\u001b[K’ [\u001b[01;35m\u001b[K-Wunused-variable\u001b[m\u001b[K]\n",
            "     int \u001b[01;35m\u001b[Kother\u001b[m\u001b[K = opponent (color);\n",
            "         \u001b[01;35m\u001b[K^~~~~\u001b[m\u001b[K\n",
            "\u001b[01m\u001b[KBoard.h:\u001b[m\u001b[K In member function ‘\u001b[01m\u001b[Kvoid Board::computeAllLadders(int, bool)\u001b[m\u001b[K’:\n",
            "\u001b[01m\u001b[KBoard.h:2046:9:\u001b[m\u001b[K \u001b[01;35m\u001b[Kwarning: \u001b[m\u001b[Kunused variable ‘\u001b[01m\u001b[Kn1\u001b[m\u001b[K’ [\u001b[01;35m\u001b[K-Wunused-variable\u001b[m\u001b[K]\n",
            "     int \u001b[01;35m\u001b[Kn1\u001b[m\u001b[K = nbLiberties (i, liberties1, stones1);\n",
            "         \u001b[01;35m\u001b[K^~\u001b[m\u001b[K\n",
            "\u001b[01m\u001b[KBoard.h:2082:7:\u001b[m\u001b[K \u001b[01;35m\u001b[Kwarning: \u001b[m\u001b[Kunused variable ‘\u001b[01m\u001b[Kn1\u001b[m\u001b[K’ [\u001b[01;35m\u001b[K-Wunused-variable\u001b[m\u001b[K]\n",
            "   int \u001b[01;35m\u001b[Kn1\u001b[m\u001b[K = nbLiberties (i, liberties1, stones1);\n",
            "       \u001b[01;35m\u001b[K^~\u001b[m\u001b[K\n",
            "\u001b[01m\u001b[KBoard.h:2115:9:\u001b[m\u001b[K \u001b[01;35m\u001b[Kwarning: \u001b[m\u001b[Kunused variable ‘\u001b[01m\u001b[Kn1\u001b[m\u001b[K’ [\u001b[01;35m\u001b[K-Wunused-variable\u001b[m\u001b[K]\n",
            "     int \u001b[01;35m\u001b[Kn1\u001b[m\u001b[K = nbLiberties (i, liberties1, stones1);\n",
            "         \u001b[01;35m\u001b[K^~\u001b[m\u001b[K\n",
            "\u001b[01m\u001b[KBoard.h:2152:7:\u001b[m\u001b[K \u001b[01;35m\u001b[Kwarning: \u001b[m\u001b[Kunused variable ‘\u001b[01m\u001b[Kn1\u001b[m\u001b[K’ [\u001b[01;35m\u001b[K-Wunused-variable\u001b[m\u001b[K]\n",
            "   int \u001b[01;35m\u001b[Kn1\u001b[m\u001b[K = nbLiberties (i, liberties1, stones1);\n",
            "       \u001b[01;35m\u001b[K^~\u001b[m\u001b[K\n",
            "\u001b[01m\u001b[KBoard.h:\u001b[m\u001b[K In member function ‘\u001b[01m\u001b[Kvoid Board::computeIsInLadder()\u001b[m\u001b[K’:\n",
            "\u001b[01m\u001b[KBoard.h:2223:7:\u001b[m\u001b[K \u001b[01;35m\u001b[Kwarning: \u001b[m\u001b[Kunused variable ‘\u001b[01m\u001b[Kn1\u001b[m\u001b[K’ [\u001b[01;35m\u001b[K-Wunused-variable\u001b[m\u001b[K]\n",
            "   int \u001b[01;35m\u001b[Kn1\u001b[m\u001b[K = nbLiberties (s, liberties1, stones1);\n",
            "       \u001b[01;35m\u001b[K^~\u001b[m\u001b[K\n",
            "\u001b[01m\u001b[KBoard.h:\u001b[m\u001b[K In member function ‘\u001b[01m\u001b[Kvoid Board::computeLostLadders()\u001b[m\u001b[K’:\n",
            "\u001b[01m\u001b[KBoard.h:2256:7:\u001b[m\u001b[K \u001b[01;35m\u001b[Kwarning: \u001b[m\u001b[Kunused variable ‘\u001b[01m\u001b[Kn1\u001b[m\u001b[K’ [\u001b[01;35m\u001b[K-Wunused-variable\u001b[m\u001b[K]\n",
            "   int \u001b[01;35m\u001b[Kn1\u001b[m\u001b[K = nbLiberties (s, liberties1, stones1);\n",
            "       \u001b[01;35m\u001b[K^~\u001b[m\u001b[K\n",
            "\u001b[01m\u001b[KBoard.h:\u001b[m\u001b[K In member function ‘\u001b[01m\u001b[Kvoid Board::printLadders(FILE*, int)\u001b[m\u001b[K’:\n",
            "\u001b[01m\u001b[KBoard.h:2268:9:\u001b[m\u001b[K \u001b[01;35m\u001b[Kwarning: \u001b[m\u001b[Kunused variable ‘\u001b[01m\u001b[Kother\u001b[m\u001b[K’ [\u001b[01;35m\u001b[K-Wunused-variable\u001b[m\u001b[K]\n",
            "     int \u001b[01;35m\u001b[Kother\u001b[m\u001b[K = opponent (color);\n",
            "         \u001b[01;35m\u001b[K^~~~~\u001b[m\u001b[K\n",
            "\u001b[01m\u001b[KBoard.h:\u001b[m\u001b[K In member function ‘\u001b[01m\u001b[Kbool Board::sameString(int, int)\u001b[m\u001b[K’:\n",
            "\u001b[01m\u001b[KBoard.h:2317:9:\u001b[m\u001b[K \u001b[01;35m\u001b[Kwarning: \u001b[m\u001b[Kunused variable ‘\u001b[01m\u001b[Kn\u001b[m\u001b[K’ [\u001b[01;35m\u001b[K-Wunused-variable\u001b[m\u001b[K]\n",
            "     int \u001b[01;35m\u001b[Kn\u001b[m\u001b[K = nbLiberties (inter, liberties, stones);\n",
            "         \u001b[01;35m\u001b[K^\u001b[m\u001b[K\n",
            "\u001b[01m\u001b[KBoard.h:\u001b[m\u001b[K In member function ‘\u001b[01m\u001b[Kbool Board::atariLent(int)\u001b[m\u001b[K’:\n",
            "\u001b[01m\u001b[KBoard.h:2636:10:\u001b[m\u001b[K \u001b[01;35m\u001b[Kwarning: \u001b[m\u001b[Ksuggest explicit braces to avoid ambiguous ‘\u001b[01m\u001b[Kelse\u001b[m\u001b[K’ [\u001b[01;35m\u001b[K-Wdangling-else\u001b[m\u001b[K]\n",
            "       if \u001b[01;35m\u001b[K(\u001b[m\u001b[Kboard [pierre - 1] == Empty)\n",
            "          \u001b[01;35m\u001b[K^\u001b[m\u001b[K\n",
            "\u001b[01m\u001b[KBoard.h:2639:10:\u001b[m\u001b[K \u001b[01;35m\u001b[Kwarning: \u001b[m\u001b[Ksuggest explicit braces to avoid ambiguous ‘\u001b[01m\u001b[Kelse\u001b[m\u001b[K’ [\u001b[01;35m\u001b[K-Wdangling-else\u001b[m\u001b[K]\n",
            "       if \u001b[01;35m\u001b[K(\u001b[m\u001b[Kboard [pierre + 1] == Empty)\n",
            "          \u001b[01;35m\u001b[K^\u001b[m\u001b[K\n",
            "\u001b[01m\u001b[KBoard.h:2642:10:\u001b[m\u001b[K \u001b[01;35m\u001b[Kwarning: \u001b[m\u001b[Ksuggest explicit braces to avoid ambiguous ‘\u001b[01m\u001b[Kelse\u001b[m\u001b[K’ [\u001b[01;35m\u001b[K-Wdangling-else\u001b[m\u001b[K]\n",
            "       if \u001b[01;35m\u001b[K(\u001b[m\u001b[Kboard [pierre - dxBoard] == Empty)\n",
            "          \u001b[01;35m\u001b[K^\u001b[m\u001b[K\n",
            "\u001b[01m\u001b[KBoard.h:2645:10:\u001b[m\u001b[K \u001b[01;35m\u001b[Kwarning: \u001b[m\u001b[Ksuggest explicit braces to avoid ambiguous ‘\u001b[01m\u001b[Kelse\u001b[m\u001b[K’ [\u001b[01;35m\u001b[K-Wdangling-else\u001b[m\u001b[K]\n",
            "       if \u001b[01;35m\u001b[K(\u001b[m\u001b[Kboard [pierre + dxBoard] == Empty)\n",
            "          \u001b[01;35m\u001b[K^\u001b[m\u001b[K\n",
            "\u001b[01m\u001b[KBoard.h:\u001b[m\u001b[K In member function ‘\u001b[01m\u001b[Kint Board::playAtariIfCapture(int)\u001b[m\u001b[K’:\n",
            "\u001b[01m\u001b[KBoard.h:3024:9:\u001b[m\u001b[K \u001b[01;35m\u001b[Kwarning: \u001b[m\u001b[Kunused variable ‘\u001b[01m\u001b[Kother\u001b[m\u001b[K’ [\u001b[01;35m\u001b[K-Wunused-variable\u001b[m\u001b[K]\n",
            "     int \u001b[01;35m\u001b[Kother\u001b[m\u001b[K = opponent (couleur);\n",
            "         \u001b[01;35m\u001b[K^~~~~\u001b[m\u001b[K\n",
            "\u001b[01m\u001b[KBoard.h:\u001b[m\u001b[K In member function ‘\u001b[01m\u001b[Kint Board::captureAdjacentAtari(int)\u001b[m\u001b[K’:\n",
            "\u001b[01m\u001b[KBoard.h:3080:9:\u001b[m\u001b[K \u001b[01;35m\u001b[Kwarning: \u001b[m\u001b[Kunused variable ‘\u001b[01m\u001b[Kother\u001b[m\u001b[K’ [\u001b[01;35m\u001b[K-Wunused-variable\u001b[m\u001b[K]\n",
            "     int \u001b[01;35m\u001b[Kother\u001b[m\u001b[K = opponent (couleur);\n",
            "         \u001b[01;35m\u001b[K^~~~~\u001b[m\u001b[K\n",
            "\u001b[01m\u001b[KBoard.h:\u001b[m\u001b[K In member function ‘\u001b[01m\u001b[Kint Board::captureAtari(int)\u001b[m\u001b[K’:\n",
            "\u001b[01m\u001b[KBoard.h:3116:9:\u001b[m\u001b[K \u001b[01;35m\u001b[Kwarning: \u001b[m\u001b[Kunused variable ‘\u001b[01m\u001b[Kother\u001b[m\u001b[K’ [\u001b[01;35m\u001b[K-Wunused-variable\u001b[m\u001b[K]\n",
            "     int \u001b[01;35m\u001b[Kother\u001b[m\u001b[K = opponent (couleur);\n",
            "         \u001b[01;35m\u001b[K^~~~~\u001b[m\u001b[K\n",
            "\u001b[01m\u001b[KBoard.h:\u001b[m\u001b[K In member function ‘\u001b[01m\u001b[Kint Board::avoidCaptureAtari(int)\u001b[m\u001b[K’:\n",
            "\u001b[01m\u001b[KBoard.h:3139:9:\u001b[m\u001b[K \u001b[01;35m\u001b[Kwarning: \u001b[m\u001b[Kunused variable ‘\u001b[01m\u001b[Kother\u001b[m\u001b[K’ [\u001b[01;35m\u001b[K-Wunused-variable\u001b[m\u001b[K]\n",
            "     int \u001b[01;35m\u001b[Kother\u001b[m\u001b[K = opponent (couleur);\n",
            "         \u001b[01;35m\u001b[K^~~~~\u001b[m\u001b[K\n",
            "\u001b[01m\u001b[KBoard.h:\u001b[m\u001b[K In member function ‘\u001b[01m\u001b[Kint Board::playout(int)\u001b[m\u001b[K’:\n",
            "\u001b[01m\u001b[KBoard.h:3275:7:\u001b[m\u001b[K \u001b[01;35m\u001b[Kwarning: \u001b[m\u001b[Kvariable ‘\u001b[01m\u001b[Km\u001b[m\u001b[K’ set but not used [\u001b[01;35m\u001b[K-Wunused-but-set-variable\u001b[m\u001b[K]\n",
            "  Move \u001b[01;35m\u001b[Km\u001b[m\u001b[K;\n",
            "       \u001b[01;35m\u001b[K^\u001b[m\u001b[K\n",
            "\u001b[01m\u001b[KBoard.h:3296:9:\u001b[m\u001b[K \u001b[01;35m\u001b[Kwarning: \u001b[m\u001b[Kunused variable ‘\u001b[01m\u001b[Ks\u001b[m\u001b[K’ [\u001b[01;35m\u001b[K-Wunused-variable\u001b[m\u001b[K]\n",
            "    char \u001b[01;35m\u001b[Ks\u001b[m\u001b[K [256];\n",
            "         \u001b[01;35m\u001b[K^\u001b[m\u001b[K\n",
            "\u001b[01m\u001b[KBoard.h:\u001b[m\u001b[K In member function ‘\u001b[01m\u001b[Kint Board::loadSGF(FILE*)\u001b[m\u001b[K’:\n",
            "\u001b[01m\u001b[KBoard.h:3733:8:\u001b[m\u001b[K \u001b[01;35m\u001b[Kwarning: \u001b[m\u001b[Kunused variable ‘\u001b[01m\u001b[Kres\u001b[m\u001b[K’ [\u001b[01;35m\u001b[K-Wunused-variable\u001b[m\u001b[K]\n",
            "    int \u001b[01;35m\u001b[Kres\u001b[m\u001b[K = sscanf (InsideBracket, \"%d\", &sz);\n",
            "        \u001b[01;35m\u001b[K^~~\u001b[m\u001b[K\n",
            "\u001b[01m\u001b[KBoard.h:3743:10:\u001b[m\u001b[K \u001b[01;35m\u001b[Kwarning: \u001b[m\u001b[Kunused variable ‘\u001b[01m\u001b[Kres\u001b[m\u001b[K’ [\u001b[01;35m\u001b[K-Wunused-variable\u001b[m\u001b[K]\n",
            "      int \u001b[01;35m\u001b[Kres\u001b[m\u001b[K = sscanf (InsideBracket, \"%d: %f\", &i, &v);\n",
            "          \u001b[01;35m\u001b[K^~~\u001b[m\u001b[K\n",
            "In file included from \u001b[01m\u001b[Kgolois.cpp:18:0\u001b[m\u001b[K:\n",
            "\u001b[01m\u001b[KGame.h:\u001b[m\u001b[K In function ‘\u001b[01m\u001b[Kvoid loadGamesData(char*)\u001b[m\u001b[K’:\n",
            "\u001b[01m\u001b[KGame.h:206:76:\u001b[m\u001b[K \u001b[01;35m\u001b[Kwarning: \u001b[m\u001b[Kformat ‘\u001b[01m\u001b[K%d\u001b[m\u001b[K’ expects argument of type ‘\u001b[01m\u001b[Kint*\u001b[m\u001b[K’, but argument 3 has type ‘\u001b[01m\u001b[Kshort int*\u001b[m\u001b[K’ [\u001b[01;35m\u001b[K-Wformat=\u001b[m\u001b[K]\n",
            "         fscanf (fp, \"%d %d\", \u001b[32m\u001b[K&proGame [g] [i].inter\u001b[m\u001b[K, &proGame [g] [i].color\u001b[01;35m\u001b[K)\u001b[m\u001b[K;\n",
            "                              \u001b[32m\u001b[K~~~~~~~~~~~~~~~~~~~~~~\u001b[m\u001b[K                        \u001b[01;35m\u001b[K^\u001b[m\u001b[K\n",
            "\u001b[01m\u001b[KGame.h:206:76:\u001b[m\u001b[K \u001b[01;35m\u001b[Kwarning: \u001b[m\u001b[Kformat ‘\u001b[01m\u001b[K%d\u001b[m\u001b[K’ expects argument of type ‘\u001b[01m\u001b[Kint*\u001b[m\u001b[K’, but argument 4 has type ‘\u001b[01m\u001b[Kchar*\u001b[m\u001b[K’ [\u001b[01;35m\u001b[K-Wformat=\u001b[m\u001b[K]\n",
            "\u001b[01m\u001b[KGame.h:\u001b[m\u001b[K In function ‘\u001b[01m\u001b[Kvoid loadGamesDataVal(char*)\u001b[m\u001b[K’:\n",
            "\u001b[01m\u001b[KGame.h:285:95:\u001b[m\u001b[K \u001b[01;35m\u001b[Kwarning: \u001b[m\u001b[Kformat ‘\u001b[01m\u001b[K%d\u001b[m\u001b[K’ expects argument of type ‘\u001b[01m\u001b[Kint*\u001b[m\u001b[K’, but argument 3 has type ‘\u001b[01m\u001b[Kshort int*\u001b[m\u001b[K’ [\u001b[01;35m\u001b[K-Wformat=\u001b[m\u001b[K]\n",
            "  fscanf (fp, \"%d %f %d \", \u001b[32m\u001b[K&proGame [g] [i].inter\u001b[m\u001b[K, &proGame [g] [i].val, &proGame [g] [i].color\u001b[01;35m\u001b[K)\u001b[m\u001b[K;\n",
            "                           \u001b[32m\u001b[K~~~~~~~~~~~~~~~~~~~~~~\u001b[m\u001b[K                                              \u001b[01;35m\u001b[K^\u001b[m\u001b[K\n",
            "\u001b[01m\u001b[KGame.h:285:95:\u001b[m\u001b[K \u001b[01;35m\u001b[Kwarning: \u001b[m\u001b[Kformat ‘\u001b[01m\u001b[K%d\u001b[m\u001b[K’ expects argument of type ‘\u001b[01m\u001b[Kint*\u001b[m\u001b[K’, but argument 5 has type ‘\u001b[01m\u001b[Kchar*\u001b[m\u001b[K’ [\u001b[01;35m\u001b[K-Wformat=\u001b[m\u001b[K]\n",
            "\u001b[01m\u001b[Kgolois.cpp:\u001b[m\u001b[K In lambda function:\n",
            "\u001b[01m\u001b[Kgolois.cpp:42:31:\u001b[m\u001b[K \u001b[01;35m\u001b[Kwarning: \u001b[m\u001b[KISO C++ forbids converting a string constant to ‘\u001b[01m\u001b[Kchar*\u001b[m\u001b[K’ [\u001b[01;35m\u001b[K-Wwrite-strings\u001b[m\u001b[K]\n",
            "    loadGamesData (\"games.data\"\u001b[01;35m\u001b[K)\u001b[m\u001b[K;\n",
            "                               \u001b[01;35m\u001b[K^\u001b[m\u001b[K\n",
            "\u001b[01m\u001b[Kgolois.cpp:61:101:\u001b[m\u001b[K \u001b[01;35m\u001b[Kwarning: \u001b[m\u001b[Kformat ‘\u001b[01m\u001b[K%d\u001b[m\u001b[K’ expects argument of type ‘\u001b[01m\u001b[Kint\u001b[m\u001b[K’, but argument 3 has type ‘\u001b[01m\u001b[Kpybind11::ssize_t {aka long int}\u001b[m\u001b[K’ [\u001b[01;35m\u001b[K-Wformat=\u001b[m\u001b[K]\n",
            "  fprintf (stderr, \"r.shape = (%d, %d, %d, %d)\\n\", \u001b[32m\u001b[Kr.shape (0)\u001b[m\u001b[K, r.shape (1), r.shape (2), r.shape (3)\u001b[01;35m\u001b[K)\u001b[m\u001b[K;\n",
            "                                                   \u001b[32m\u001b[K~~~~~~~~~~~\u001b[m\u001b[K                                       \u001b[01;35m\u001b[K^\u001b[m\u001b[K\n",
            "\u001b[01m\u001b[Kgolois.cpp:61:101:\u001b[m\u001b[K \u001b[01;35m\u001b[Kwarning: \u001b[m\u001b[Kformat ‘\u001b[01m\u001b[K%d\u001b[m\u001b[K’ expects argument of type ‘\u001b[01m\u001b[Kint\u001b[m\u001b[K’, but argument 4 has type ‘\u001b[01m\u001b[Kpybind11::ssize_t {aka long int}\u001b[m\u001b[K’ [\u001b[01;35m\u001b[K-Wformat=\u001b[m\u001b[K]\n",
            "\u001b[01m\u001b[Kgolois.cpp:61:101:\u001b[m\u001b[K \u001b[01;35m\u001b[Kwarning: \u001b[m\u001b[Kformat ‘\u001b[01m\u001b[K%d\u001b[m\u001b[K’ expects argument of type ‘\u001b[01m\u001b[Kint\u001b[m\u001b[K’, but argument 5 has type ‘\u001b[01m\u001b[Kpybind11::ssize_t {aka long int}\u001b[m\u001b[K’ [\u001b[01;35m\u001b[K-Wformat=\u001b[m\u001b[K]\n",
            "\u001b[01m\u001b[Kgolois.cpp:61:101:\u001b[m\u001b[K \u001b[01;35m\u001b[Kwarning: \u001b[m\u001b[Kformat ‘\u001b[01m\u001b[K%d\u001b[m\u001b[K’ expects argument of type ‘\u001b[01m\u001b[Kint\u001b[m\u001b[K’, but argument 6 has type ‘\u001b[01m\u001b[Kpybind11::ssize_t {aka long int}\u001b[m\u001b[K’ [\u001b[01;35m\u001b[K-Wformat=\u001b[m\u001b[K]\n",
            "\u001b[01m\u001b[Kgolois.cpp:\u001b[m\u001b[K In lambda function:\n",
            "\u001b[01m\u001b[Kgolois.cpp:147:101:\u001b[m\u001b[K \u001b[01;35m\u001b[Kwarning: \u001b[m\u001b[Kformat ‘\u001b[01m\u001b[K%d\u001b[m\u001b[K’ expects argument of type ‘\u001b[01m\u001b[Kint\u001b[m\u001b[K’, but argument 3 has type ‘\u001b[01m\u001b[Kpybind11::ssize_t {aka long int}\u001b[m\u001b[K’ [\u001b[01;35m\u001b[K-Wformat=\u001b[m\u001b[K]\n",
            "  fprintf (stderr, \"r.shape = (%d, %d, %d, %d)\\n\", \u001b[32m\u001b[Kr.shape (0)\u001b[m\u001b[K, r.shape (1), r.shape (2), r.shape (3)\u001b[01;35m\u001b[K)\u001b[m\u001b[K;\n",
            "                                                   \u001b[32m\u001b[K~~~~~~~~~~~\u001b[m\u001b[K                                       \u001b[01;35m\u001b[K^\u001b[m\u001b[K\n",
            "\u001b[01m\u001b[Kgolois.cpp:147:101:\u001b[m\u001b[K \u001b[01;35m\u001b[Kwarning: \u001b[m\u001b[Kformat ‘\u001b[01m\u001b[K%d\u001b[m\u001b[K’ expects argument of type ‘\u001b[01m\u001b[Kint\u001b[m\u001b[K’, but argument 4 has type ‘\u001b[01m\u001b[Kpybind11::ssize_t {aka long int}\u001b[m\u001b[K’ [\u001b[01;35m\u001b[K-Wformat=\u001b[m\u001b[K]\n",
            "\u001b[01m\u001b[Kgolois.cpp:147:101:\u001b[m\u001b[K \u001b[01;35m\u001b[Kwarning: \u001b[m\u001b[Kformat ‘\u001b[01m\u001b[K%d\u001b[m\u001b[K’ expects argument of type ‘\u001b[01m\u001b[Kint\u001b[m\u001b[K’, but argument 5 has type ‘\u001b[01m\u001b[Kpybind11::ssize_t {aka long int}\u001b[m\u001b[K’ [\u001b[01;35m\u001b[K-Wformat=\u001b[m\u001b[K]\n",
            "\u001b[01m\u001b[Kgolois.cpp:147:101:\u001b[m\u001b[K \u001b[01;35m\u001b[Kwarning: \u001b[m\u001b[Kformat ‘\u001b[01m\u001b[K%d\u001b[m\u001b[K’ expects argument of type ‘\u001b[01m\u001b[Kint\u001b[m\u001b[K’, but argument 6 has type ‘\u001b[01m\u001b[Kpybind11::ssize_t {aka long int}\u001b[m\u001b[K’ [\u001b[01;35m\u001b[K-Wformat=\u001b[m\u001b[K]\n",
            "\u001b[01m\u001b[Kgolois.cpp:155:31:\u001b[m\u001b[K \u001b[01;35m\u001b[Kwarning: \u001b[m\u001b[KISO C++ forbids converting a string constant to ‘\u001b[01m\u001b[Kchar*\u001b[m\u001b[K’ [\u001b[01;35m\u001b[K-Wwrite-strings\u001b[m\u001b[K]\n",
            "    loadGamesData (\"games.data\"\u001b[01;35m\u001b[K)\u001b[m\u001b[K;\n",
            "                               \u001b[01;35m\u001b[K^\u001b[m\u001b[K\n",
            "\u001b[01m\u001b[Kgolois.cpp:\u001b[m\u001b[K In lambda function:\n",
            "\u001b[01m\u001b[Kgolois.cpp:264:38:\u001b[m\u001b[K \u001b[01;35m\u001b[Kwarning: \u001b[m\u001b[KISO C++ forbids converting a string constant to ‘\u001b[01m\u001b[Kchar*\u001b[m\u001b[K’ [\u001b[01;35m\u001b[K-Wwrite-strings\u001b[m\u001b[K]\n",
            "    loadGamesDataVal (\"games.val.data\"\u001b[01;35m\u001b[K)\u001b[m\u001b[K;\n",
            "                                      \u001b[01;35m\u001b[K^\u001b[m\u001b[K\n",
            "\u001b[01m\u001b[Kgolois.cpp:272:101:\u001b[m\u001b[K \u001b[01;35m\u001b[Kwarning: \u001b[m\u001b[Kformat ‘\u001b[01m\u001b[K%d\u001b[m\u001b[K’ expects argument of type ‘\u001b[01m\u001b[Kint\u001b[m\u001b[K’, but argument 3 has type ‘\u001b[01m\u001b[Kpybind11::ssize_t {aka long int}\u001b[m\u001b[K’ [\u001b[01;35m\u001b[K-Wformat=\u001b[m\u001b[K]\n",
            "  fprintf (stderr, \"r.shape = (%d, %d, %d, %d)\\n\", \u001b[32m\u001b[Kr.shape (0)\u001b[m\u001b[K, r.shape (1), r.shape (2), r.shape (3)\u001b[01;35m\u001b[K)\u001b[m\u001b[K;\n",
            "                                                   \u001b[32m\u001b[K~~~~~~~~~~~\u001b[m\u001b[K                                       \u001b[01;35m\u001b[K^\u001b[m\u001b[K\n",
            "\u001b[01m\u001b[Kgolois.cpp:272:101:\u001b[m\u001b[K \u001b[01;35m\u001b[Kwarning: \u001b[m\u001b[Kformat ‘\u001b[01m\u001b[K%d\u001b[m\u001b[K’ expects argument of type ‘\u001b[01m\u001b[Kint\u001b[m\u001b[K’, but argument 4 has type ‘\u001b[01m\u001b[Kpybind11::ssize_t {aka long int}\u001b[m\u001b[K’ [\u001b[01;35m\u001b[K-Wformat=\u001b[m\u001b[K]\n",
            "\u001b[01m\u001b[Kgolois.cpp:272:101:\u001b[m\u001b[K \u001b[01;35m\u001b[Kwarning: \u001b[m\u001b[Kformat ‘\u001b[01m\u001b[K%d\u001b[m\u001b[K’ expects argument of type ‘\u001b[01m\u001b[Kint\u001b[m\u001b[K’, but argument 5 has type ‘\u001b[01m\u001b[Kpybind11::ssize_t {aka long int}\u001b[m\u001b[K’ [\u001b[01;35m\u001b[K-Wformat=\u001b[m\u001b[K]\n",
            "\u001b[01m\u001b[Kgolois.cpp:272:101:\u001b[m\u001b[K \u001b[01;35m\u001b[Kwarning: \u001b[m\u001b[Kformat ‘\u001b[01m\u001b[K%d\u001b[m\u001b[K’ expects argument of type ‘\u001b[01m\u001b[Kint\u001b[m\u001b[K’, but argument 6 has type ‘\u001b[01m\u001b[Kpybind11::ssize_t {aka long int}\u001b[m\u001b[K’ [\u001b[01;35m\u001b[K-Wformat=\u001b[m\u001b[K]\n",
            "In file included from \u001b[01m\u001b[Kgolois.cpp:18:0\u001b[m\u001b[K:\n",
            "\u001b[01m\u001b[KGame.h:\u001b[m\u001b[K In function ‘\u001b[01m\u001b[Kvoid loadGamesData(char*)\u001b[m\u001b[K’:\n",
            "\u001b[01m\u001b[KGame.h:193:12:\u001b[m\u001b[K \u001b[01;35m\u001b[Kwarning: \u001b[m\u001b[Kignoring return value of ‘\u001b[01m\u001b[Kint fscanf(FILE*, const char*, ...)\u001b[m\u001b[K’, declared with attribute warn_unused_result [\u001b[01;35m\u001b[K-Wunused-result\u001b[m\u001b[K]\n",
            "     \u001b[01;35m\u001b[Kfscanf (fp, \"%d\", &nbGames)\u001b[m\u001b[K;\n",
            "     \u001b[01;35m\u001b[K~~~~~~~^~~~~~~~~~~~~~~~~~~~\u001b[m\u001b[K\n",
            "\u001b[01m\u001b[KGame.h:197:14:\u001b[m\u001b[K \u001b[01;35m\u001b[Kwarning: \u001b[m\u001b[Kignoring return value of ‘\u001b[01m\u001b[Kint fscanf(FILE*, const char*, ...)\u001b[m\u001b[K’, declared with attribute warn_unused_result [\u001b[01;35m\u001b[K-Wunused-result\u001b[m\u001b[K]\n",
            "       \u001b[01;35m\u001b[Kfscanf (fp, \"%s \", s)\u001b[m\u001b[K;\n",
            "       \u001b[01;35m\u001b[K~~~~~~~^~~~~~~~~~~~~~\u001b[m\u001b[K\n",
            "\u001b[01m\u001b[KGame.h:200:14:\u001b[m\u001b[K \u001b[01;35m\u001b[Kwarning: \u001b[m\u001b[Kignoring return value of ‘\u001b[01m\u001b[Kint fscanf(FILE*, const char*, ...)\u001b[m\u001b[K’, declared with attribute warn_unused_result [\u001b[01;35m\u001b[K-Wunused-result\u001b[m\u001b[K]\n",
            "       \u001b[01;35m\u001b[Kfscanf (fp, \"%d\", &nbMovesSGFGame [g])\u001b[m\u001b[K;\n",
            "       \u001b[01;35m\u001b[K~~~~~~~^~~~~~~~~~~~~~~~~~~~~~~~~~~~~~~\u001b[m\u001b[K\n",
            "\u001b[01m\u001b[KGame.h:201:14:\u001b[m\u001b[K \u001b[01;35m\u001b[Kwarning: \u001b[m\u001b[Kignoring return value of ‘\u001b[01m\u001b[Kint fscanf(FILE*, const char*, ...)\u001b[m\u001b[K’, declared with attribute warn_unused_result [\u001b[01;35m\u001b[K-Wunused-result\u001b[m\u001b[K]\n",
            "       \u001b[01;35m\u001b[Kfscanf (fp, \"%d\", &startGame [g])\u001b[m\u001b[K;\n",
            "       \u001b[01;35m\u001b[K~~~~~~~^~~~~~~~~~~~~~~~~~~~~~~~~~\u001b[m\u001b[K\n",
            "\u001b[01m\u001b[KGame.h:206:16:\u001b[m\u001b[K \u001b[01;35m\u001b[Kwarning: \u001b[m\u001b[Kignoring return value of ‘\u001b[01m\u001b[Kint fscanf(FILE*, const char*, ...)\u001b[m\u001b[K’, declared with attribute warn_unused_result [\u001b[01;35m\u001b[K-Wunused-result\u001b[m\u001b[K]\n",
            "         \u001b[01;35m\u001b[Kfscanf (fp, \"%d %d\", &proGame [g] [i].inter, &proGame [g] [i].color)\u001b[m\u001b[K;\n",
            "         \u001b[01;35m\u001b[K~~~~~~~^~~~~~~~~~~~~~~~~~~~~~~~~~~~~~~~~~~~~~~~~~~~~~~~~~~~~~~~~~~~~\u001b[m\u001b[K\n",
            "\u001b[01m\u001b[KGame.h:\u001b[m\u001b[K In function ‘\u001b[01m\u001b[Kvoid loadGamesDataVal(char*)\u001b[m\u001b[K’:\n",
            "\u001b[01m\u001b[KGame.h:278:12:\u001b[m\u001b[K \u001b[01;35m\u001b[Kwarning: \u001b[m\u001b[Kignoring return value of ‘\u001b[01m\u001b[Kint fscanf(FILE*, const char*, ...)\u001b[m\u001b[K’, declared with attribute warn_unused_result [\u001b[01;35m\u001b[K-Wunused-result\u001b[m\u001b[K]\n",
            "     \u001b[01;35m\u001b[Kfscanf (fp, \"%d\", &nbGames)\u001b[m\u001b[K;\n",
            "     \u001b[01;35m\u001b[K~~~~~~~^~~~~~~~~~~~~~~~~~~~\u001b[m\u001b[K\n",
            "\u001b[01m\u001b[KGame.h:280:14:\u001b[m\u001b[K \u001b[01;35m\u001b[Kwarning: \u001b[m\u001b[Kignoring return value of ‘\u001b[01m\u001b[Kint fscanf(FILE*, const char*, ...)\u001b[m\u001b[K’, declared with attribute warn_unused_result [\u001b[01;35m\u001b[K-Wunused-result\u001b[m\u001b[K]\n",
            "       \u001b[01;35m\u001b[Kfscanf (fp, \"%s \", s)\u001b[m\u001b[K;\n",
            "       \u001b[01;35m\u001b[K~~~~~~~^~~~~~~~~~~~~~\u001b[m\u001b[K\n",
            "\u001b[01m\u001b[KGame.h:282:14:\u001b[m\u001b[K \u001b[01;35m\u001b[Kwarning: \u001b[m\u001b[Kignoring return value of ‘\u001b[01m\u001b[Kint fscanf(FILE*, const char*, ...)\u001b[m\u001b[K’, declared with attribute warn_unused_result [\u001b[01;35m\u001b[K-Wunused-result\u001b[m\u001b[K]\n",
            "       \u001b[01;35m\u001b[Kfscanf (fp, \"%d\", &nbMovesSGFGame [g])\u001b[m\u001b[K;\n",
            "       \u001b[01;35m\u001b[K~~~~~~~^~~~~~~~~~~~~~~~~~~~~~~~~~~~~~~\u001b[m\u001b[K\n",
            "\u001b[01m\u001b[KGame.h:285:9:\u001b[m\u001b[K \u001b[01;35m\u001b[Kwarning: \u001b[m\u001b[Kignoring return value of ‘\u001b[01m\u001b[Kint fscanf(FILE*, const char*, ...)\u001b[m\u001b[K’, declared with attribute warn_unused_result [\u001b[01;35m\u001b[K-Wunused-result\u001b[m\u001b[K]\n",
            "  \u001b[01;35m\u001b[Kfscanf (fp, \"%d %f %d \", &proGame [g] [i].inter, &proGame [g] [i].val, &proGame [g] [i].color)\u001b[m\u001b[K;\n",
            "  \u001b[01;35m\u001b[K~~~~~~~^~~~~~~~~~~~~~~~~~~~~~~~~~~~~~~~~~~~~~~~~~~~~~~~~~~~~~~~~~~~~~~~~~~~~~~~~~~~~~~~~~~~~~~\u001b[m\u001b[K\n",
            "\u001b[01m\u001b[Kgolois.cpp:\u001b[m\u001b[K In lambda function:\n",
            "\u001b[01m\u001b[Kgolois.cpp:190:13:\u001b[m\u001b[K \u001b[01;35m\u001b[Kwarning: \u001b[m\u001b[Kignoring return value of ‘\u001b[01m\u001b[Kint fscanf(FILE*, const char*, ...)\u001b[m\u001b[K’, declared with attribute warn_unused_result [\u001b[01;35m\u001b[K-Wunused-result\u001b[m\u001b[K]\n",
            "      \u001b[01;35m\u001b[Kfscanf (fp, \"%d\", &nbExamples)\u001b[m\u001b[K;\n",
            "      \u001b[01;35m\u001b[K~~~~~~~^~~~~~~~~~~~~~~~~~~~~~~\u001b[m\u001b[K\n",
            "\u001b[01m\u001b[Kgolois.cpp:192:15:\u001b[m\u001b[K \u001b[01;35m\u001b[Kwarning: \u001b[m\u001b[Kignoring return value of ‘\u001b[01m\u001b[Kint fscanf(FILE*, const char*, ...)\u001b[m\u001b[K’, declared with attribute warn_unused_result [\u001b[01;35m\u001b[K-Wunused-result\u001b[m\u001b[K]\n",
            "        \u001b[01;35m\u001b[Kfscanf (fp, \"%d\", &indexValidation [i])\u001b[m\u001b[K;\n",
            "        \u001b[01;35m\u001b[K~~~~~~~^~~~~~~~~~~~~~~~~~~~~~~~~~~~~~~~\u001b[m\u001b[K\n"
          ],
          "name": "stdout"
        }
      ]
    },
    {
      "cell_type": "markdown",
      "metadata": {
        "id": "u5jKQcdWHMGn"
      },
      "source": [
        "## Loading from drive"
      ]
    },
    {
      "cell_type": "code",
      "metadata": {
        "id": "HfksVCuR7vv0",
        "colab": {
          "base_uri": "https://localhost:8080/"
        },
        "outputId": "f7f3466d-2f0c-4ad0-e110-77ee4bfbece6"
      },
      "source": [
        "from google.colab import drive\r\n",
        "drive.mount('/content/drive')"
      ],
      "execution_count": null,
      "outputs": [
        {
          "output_type": "stream",
          "text": [
            "Mounted at /content/drive\n"
          ],
          "name": "stdout"
        }
      ]
    },
    {
      "cell_type": "code",
      "metadata": {
        "id": "Ct4y50XGHRSl"
      },
      "source": [
        "version_load = \"mobileNet26blocks\"\r\n",
        "scriptname_load = \"golois_\"+version_load+\".py\"\r\n",
        "filename_load = \"hutia-gogo_\"+version_load+\".h5\""
      ],
      "execution_count": null,
      "outputs": []
    },
    {
      "cell_type": "markdown",
      "metadata": {
        "id": "C2uVCro_uCzD"
      },
      "source": [
        "Golois.py"
      ]
    },
    {
      "cell_type": "code",
      "metadata": {
        "id": "QWgOsl7KuCk2",
        "colab": {
          "base_uri": "https://localhost:8080/"
        },
        "outputId": "01226978-0935-4ea6-c8fc-bc57927d2cf4"
      },
      "source": [
        "!cp /content/drive/MyDrive/Fac/\"a M2 IASD\"/\"Deep Learning\"/\"Projet hutia-gogo\"/Modèles/{version_load}/{scriptname_load} /content/golois.py"
      ],
      "execution_count": null,
      "outputs": [
        {
          "output_type": "stream",
          "text": [
            "cp: cannot stat '/content/drive/MyDrive/Fac/a M2 IASD/Deep Learning/Projet hutia-gogo/Modèles/MobileV2.1/golois_MobileV2.1.py': No such file or directory\n"
          ],
          "name": "stdout"
        }
      ]
    },
    {
      "cell_type": "markdown",
      "metadata": {
        "id": "5JW7A_rMuEPK"
      },
      "source": [
        "Reseau.h5 + history"
      ]
    },
    {
      "cell_type": "code",
      "metadata": {
        "id": "Kmej3-hO_Hdv"
      },
      "source": [
        "!cp /content/drive/MyDrive/Fac/\"a M2 IASD\"/\"Deep Learning\"/\"Projet hutia-gogo\"/Modèles/{version_load}/{filename_load} /content/reseau.h5\n",
        "!cp /content/drive/MyDrive/Fac/\"a M2 IASD\"/\"Deep Learning\"/\"Projet hutia-gogo\"/Modèles/{version_load}/history.json /content/"
      ],
      "execution_count": null,
      "outputs": []
    },
    {
      "cell_type": "markdown",
      "metadata": {
        "id": "weRwo1sjAx3-"
      },
      "source": [
        "## Saving to drive"
      ]
    },
    {
      "cell_type": "code",
      "metadata": {
        "id": "_g7DUICiB2CV"
      },
      "source": [
        "version = \"mobileNet_cazenave_34blocks\"\r\n",
        "filename = \"hutia-gogo_\"+version+\".h5\"\r\n",
        "scriptname = \"golois_\"+version+\".py\""
      ],
      "execution_count": null,
      "outputs": []
    },
    {
      "cell_type": "markdown",
      "metadata": {
        "id": "4d5OYph7agGp"
      },
      "source": [
        "Creer Dossier"
      ]
    },
    {
      "cell_type": "code",
      "metadata": {
        "id": "a9HiP8-Lau6b"
      },
      "source": [
        "!mkdir /content/drive/MyDrive/Fac/\"a M2 IASD\"/\"Deep Learning\"/\"Projet hutia-gogo\"/Modèles/{version}"
      ],
      "execution_count": null,
      "outputs": []
    },
    {
      "cell_type": "markdown",
      "metadata": {
        "id": "6UDmQemmajdD"
      },
      "source": [
        "reseau.h5"
      ]
    },
    {
      "cell_type": "code",
      "metadata": {
        "id": "H-f5Y8I7awWY"
      },
      "source": [
        "!cp reseau.h5 /content/drive/MyDrive/Fac/\"a M2 IASD\"/\"Deep Learning\"/\"Projet hutia-gogo\"/Modèles/{version}/{filename}"
      ],
      "execution_count": null,
      "outputs": []
    },
    {
      "cell_type": "markdown",
      "metadata": {
        "id": "4VNYUJ-0ar4O"
      },
      "source": [
        "historique"
      ]
    },
    {
      "cell_type": "code",
      "metadata": {
        "id": "hSTIoZnUCyZ1"
      },
      "source": [
        "!cp history.json /content/drive/MyDrive/Fac/\"a M2 IASD\"/\"Deep Learning\"/\"Projet hutia-gogo\"/Modèles/{version}/"
      ],
      "execution_count": null,
      "outputs": []
    },
    {
      "cell_type": "code",
      "metadata": {
        "id": "XCLrpg8iLTFC",
        "colab": {
          "base_uri": "https://localhost:8080/"
        },
        "outputId": "4341c931-92b0-40b7-e93f-6c684d6ebd17"
      },
      "source": [
        "print(\"done\")"
      ],
      "execution_count": null,
      "outputs": [
        {
          "output_type": "stream",
          "text": [
            "done\n"
          ],
          "name": "stdout"
        }
      ]
    },
    {
      "cell_type": "markdown",
      "metadata": {
        "id": "AoCqVl2bCeQl"
      },
      "source": [
        "Archi et Model.png"
      ]
    },
    {
      "cell_type": "code",
      "metadata": {
        "id": "vBBb00P00R0d"
      },
      "source": [
        "!cp archi.py /content/drive/MyDrive/Fac/\"a M2 IASD\"/\"Deep Learning\"/\"Projet hutia-gogo\"/Modèles/{version}/\r\n"
      ],
      "execution_count": null,
      "outputs": []
    },
    {
      "cell_type": "code",
      "metadata": {
        "id": "LRfJS3OEChRQ"
      },
      "source": [
        "!cp model.png /content/drive/MyDrive/Fac/\"a M2 IASD\"/\"Deep Learning\"/\"Projet hutia-gogo\"/Modèles/{version}/\r\n"
      ],
      "execution_count": null,
      "outputs": []
    },
    {
      "cell_type": "markdown",
      "metadata": {
        "id": "ZB_onVjGMIUr"
      },
      "source": [
        "# 2. Implémentation"
      ]
    },
    {
      "cell_type": "markdown",
      "metadata": {
        "id": "KpLAsZJJMMku"
      },
      "source": [
        "## Imports"
      ]
    },
    {
      "cell_type": "code",
      "metadata": {
        "id": "pmoGL_dyMICo",
        "colab": {
          "base_uri": "https://localhost:8080/",
          "height": 355
        },
        "outputId": "65b5fdac-e90f-4fb6-9815-e43d051a859b"
      },
      "source": [
        "import tensorflow as tf\n",
        "import tensorflow.keras as keras\n",
        "import numpy as np\n",
        "import pickle\n",
        "import json\n",
        "from tensorflow.keras import layers\n",
        "from tensorflow.keras import regularizers\n",
        "from keras.layers import Dense, Conv2D, LeakyReLU, Activation, BatchNormalization, Flatten, Concatenate, GlobalAveragePooling2D, DepthwiseConv2D, ReLU\n",
        "from keras.utils import plot_model\n",
        "import golois"
      ],
      "execution_count": null,
      "outputs": [
        {
          "output_type": "error",
          "ename": "ModuleNotFoundError",
          "evalue": "ignored",
          "traceback": [
            "\u001b[0;31m---------------------------------------------------------------------------\u001b[0m",
            "\u001b[0;31mModuleNotFoundError\u001b[0m                       Traceback (most recent call last)",
            "\u001b[0;32m<ipython-input-1-e428ec59d80a>\u001b[0m in \u001b[0;36m<module>\u001b[0;34m()\u001b[0m\n\u001b[1;32m      8\u001b[0m \u001b[0;32mfrom\u001b[0m \u001b[0mkeras\u001b[0m\u001b[0;34m.\u001b[0m\u001b[0mlayers\u001b[0m \u001b[0;32mimport\u001b[0m \u001b[0mDense\u001b[0m\u001b[0;34m,\u001b[0m \u001b[0mConv2D\u001b[0m\u001b[0;34m,\u001b[0m \u001b[0mLeakyReLU\u001b[0m\u001b[0;34m,\u001b[0m \u001b[0mActivation\u001b[0m\u001b[0;34m,\u001b[0m \u001b[0mBatchNormalization\u001b[0m\u001b[0;34m,\u001b[0m \u001b[0mFlatten\u001b[0m\u001b[0;34m,\u001b[0m \u001b[0mConcatenate\u001b[0m\u001b[0;34m,\u001b[0m \u001b[0mGlobalAveragePooling2D\u001b[0m\u001b[0;34m,\u001b[0m \u001b[0mDepthwiseConv2D\u001b[0m\u001b[0;34m,\u001b[0m \u001b[0mReLU\u001b[0m\u001b[0;34m\u001b[0m\u001b[0;34m\u001b[0m\u001b[0m\n\u001b[1;32m      9\u001b[0m \u001b[0;32mfrom\u001b[0m \u001b[0mkeras\u001b[0m\u001b[0;34m.\u001b[0m\u001b[0mutils\u001b[0m \u001b[0;32mimport\u001b[0m \u001b[0mplot_model\u001b[0m\u001b[0;34m\u001b[0m\u001b[0;34m\u001b[0m\u001b[0m\n\u001b[0;32m---> 10\u001b[0;31m \u001b[0;32mimport\u001b[0m \u001b[0mgolois\u001b[0m\u001b[0;34m\u001b[0m\u001b[0;34m\u001b[0m\u001b[0m\n\u001b[0m",
            "\u001b[0;31mModuleNotFoundError\u001b[0m: No module named 'golois'",
            "",
            "\u001b[0;31m---------------------------------------------------------------------------\u001b[0;32m\nNOTE: If your import is failing due to a missing package, you can\nmanually install dependencies using either !pip or !apt.\n\nTo view examples of installing some common dependencies, click the\n\"Open Examples\" button below.\n\u001b[0;31m---------------------------------------------------------------------------\u001b[0m\n"
          ]
        }
      ]
    },
    {
      "cell_type": "markdown",
      "metadata": {
        "id": "72DZZ-2EMQV7"
      },
      "source": [
        "## Structure du réseau"
      ]
    },
    {
      "cell_type": "code",
      "metadata": {
        "id": "u0b9sglnMsQk"
      },
      "source": [
        "planes = 21\r\n",
        "\r\n",
        "# STRUCTURE DU RESEAU\r\n",
        "# INPUT\r\n",
        "\r\n",
        "input = keras.Input(shape=(19, 19, planes), name='board')\r\n",
        "\r\n",
        "# COUCHES\r\n",
        "\r\n",
        "#FIRST LAYER\r\n",
        "x = Conv2D(filters=64, kernel_size=1, kernel_regularizer=regularizers.l2(0.0001))(input)\r\n",
        "x = BatchNormalization()(x)\r\n",
        "x = ReLU()(x)\r\n",
        "residu = x\r\n",
        "\r\n",
        "for i in range(26):\r\n",
        "  # BLOCK BottleNeck\r\n",
        "  #Expansion\r\n",
        "  x = Conv2D(256, 1, kernel_regularizer=regularizers.l2(0.0001), use_bias = False)(x)\r\n",
        "  x = BatchNormalization()(x)\r\n",
        "  x = ReLU()(x)\r\n",
        "  x = DepthwiseConv2D(kernel_size=3, padding='same', kernel_regularizer=regularizers.l2(0.0001), use_bias = False)(x)\r\n",
        "  x = BatchNormalization()(x)\r\n",
        "  x = ReLU()(x)\r\n",
        "  #Squeezing\r\n",
        "  x = Conv2D(64, 1, kernel_regularizer=regularizers.l2(0.0001), use_bias = False)(x)\r\n",
        "  x = BatchNormalization()(x)\r\n",
        "\r\n",
        "  #Residu\r\n",
        "  x = layers.add([x,residu])\r\n",
        "  residu = x\r\n",
        "\r\n",
        "#Policy Head\r\n",
        "policy_head = Conv2D(1, 1, activation='relu', padding='same', use_bias = False, kernel_regularizer=regularizers.l2(0.0001))(x)\r\n",
        "policy_head = Flatten()(policy_head)\r\n",
        "policy_head = Activation('softmax', name='policy')(policy_head)\r\n",
        "\r\n",
        "#Value Head\r\n",
        "value_head = GlobalAveragePooling2D()(x)\r\n",
        "value_head = Dense(64, activation='relu', kernel_regularizer=regularizers.l2(0.0001))(value_head)\r\n",
        "value_head = Dense(1, activation='sigmoid', name='value')(value_head)\r\n",
        "\r\n",
        "model = keras.Model(inputs=input, outputs=[policy_head, value_head])\r\n",
        "\r\n"
      ],
      "execution_count": null,
      "outputs": []
    },
    {
      "cell_type": "code",
      "metadata": {
        "id": "aduj1TfkbYKW"
      },
      "source": [
        "model.summary()"
      ],
      "execution_count": null,
      "outputs": []
    },
    {
      "cell_type": "code",
      "metadata": {
        "id": "0ImIwoBJBl7E"
      },
      "source": [
        "plot_model(\r\n",
        "    model, to_file='model.png', show_shapes=True, show_dtype=False,\r\n",
        "    show_layer_names=True, rankdir='TB', expand_nested=False, dpi=96\r\n",
        ")"
      ],
      "execution_count": null,
      "outputs": []
    },
    {
      "cell_type": "markdown",
      "metadata": {
        "id": "17TdjXWmhjau"
      },
      "source": [
        "## Training"
      ]
    },
    {
      "cell_type": "markdown",
      "metadata": {
        "id": "af77L5LOln9f"
      },
      "source": [
        "#### Loading\r\n",
        "Pour continuer à entrainer un réseau"
      ]
    },
    {
      "cell_type": "code",
      "metadata": {
        "id": "4wCs-8IRSZj-"
      },
      "source": [
        "# LOAD MODEL\r\n",
        "model = keras.models.load_model(\"reseau.h5\")"
      ],
      "execution_count": null,
      "outputs": []
    },
    {
      "cell_type": "code",
      "metadata": {
        "id": "YxFS9kd4lu4b"
      },
      "source": [
        "# LOAD HISTORY\r\n",
        "history = json.load(open('history.json','r'))\r\n",
        "old_history = history['train_history']\r\n",
        "val_history = history['val_history']"
      ],
      "execution_count": null,
      "outputs": []
    },
    {
      "cell_type": "markdown",
      "metadata": {
        "id": "hrZ9UK74mUEo"
      },
      "source": [
        "#### Initialisations"
      ]
    },
    {
      "cell_type": "code",
      "metadata": {
        "id": "WDT521GCm1fh"
      },
      "source": [
        "# SI NOUVEAU MODELE\r\n",
        "old_history = {\r\n",
        "    \"loss\":[],\r\n",
        "    \"policy_categorical_accuracy\": [],\r\n",
        "    \"policy_loss\": [],\r\n",
        "    \"value_loss\": [],\r\n",
        "    \"value_mse\": []\r\n",
        "}\r\n",
        "\r\n",
        "val_history = {\r\n",
        "    \"val_loss\": [],\r\n",
        "    \"val_policy_categorical_accuracy\": [],\r\n",
        "    \"val_policy_loss\": [],\r\n",
        "    \"val_value_loss\": [],\r\n",
        "    \"val_value_mse\": []\r\n",
        "}"
      ],
      "execution_count": null,
      "outputs": []
    },
    {
      "cell_type": "code",
      "metadata": {
        "id": "jzneEisjRGWl"
      },
      "source": [
        "N = 100000\r\n",
        "planes = 21\r\n",
        "moves = 361"
      ],
      "execution_count": null,
      "outputs": []
    },
    {
      "cell_type": "code",
      "metadata": {
        "id": "qxhXd4MibfR8",
        "colab": {
          "base_uri": "https://localhost:8080/"
        },
        "outputId": "c9f303c8-196a-48c1-9b6f-8840f366c7a9"
      },
      "source": [
        "#DATA CONTAINERS\n",
        "input_data = np.random.randint(2, size=(N, 19, 19, planes))\n",
        "input_data = input_data.astype ('float32')\n",
        "\n",
        "\n",
        "policy = np.random.randint(moves, size=(N,))\n",
        "policy = keras.utils.to_categorical (policy)\n",
        " \n",
        "value = np.random.randint(2, size=(N,))\n",
        "value = value.astype ('float32')\n",
        " \n",
        "end = np.random.randint(2, size=(N, 19, 19, 2))\n",
        "end = end.astype ('float32')\n",
        " \n",
        "groups = np.zeros((N, 19, 19, 1))\n",
        "groups = groups.astype ('float32')\n",
        " \n",
        "print (\"getValidation\", flush = True)\n",
        "golois.getValidation (input_data, policy, value, end)"
      ],
      "execution_count": null,
      "outputs": [
        {
          "output_type": "stream",
          "text": [
            "getValidation\n"
          ],
          "name": "stdout"
        }
      ]
    },
    {
      "cell_type": "markdown",
      "metadata": {
        "id": "93r8CouPnKHB"
      },
      "source": [
        "#### Compilation et Learning Rate"
      ]
    },
    {
      "cell_type": "code",
      "metadata": {
        "id": "lMHbaaHwknNT"
      },
      "source": [
        "#COMPILATION ADAM \r\n",
        "model.compile(optimizer=keras.optimizers.Adam(lr=0.005),\r\n",
        "              loss={'policy': 'categorical_crossentropy', 'value': 'binary_crossentropy'},\r\n",
        "              loss_weights={'policy' : 1.0, 'value' : 1.0},\r\n",
        "              metrics={'policy': 'categorical_accuracy', 'value': 'mse'})"
      ],
      "execution_count": null,
      "outputs": []
    },
    {
      "cell_type": "code",
      "metadata": {
        "id": "pLbURNsjPXy4"
      },
      "source": [
        "#COMPILATION SGD  \r\n",
        "model.compile(optimizer=keras.optimizers.SGD(lr=0.005, momentum=0.9),\r\n",
        "              loss={'policy': 'categorical_crossentropy', 'value': 'binary_crossentropy'},\r\n",
        "              loss_weights={'policy' : 1.0, 'value' : 1.0},\r\n",
        "              metrics={'policy': 'categorical_accuracy', 'value': 'mse'})"
      ],
      "execution_count": null,
      "outputs": []
    },
    {
      "cell_type": "markdown",
      "metadata": {
        "id": "MUlW7Vshx225"
      },
      "source": [
        "#### Training Loop"
      ]
    },
    {
      "cell_type": "code",
      "metadata": {
        "id": "5WkHFCPvOsSk"
      },
      "source": [
        "epochs = 20\n",
        "batch = 128"
      ],
      "execution_count": null,
      "outputs": []
    },
    {
      "cell_type": "code",
      "metadata": {
        "colab": {
          "base_uri": "https://localhost:8080/"
        },
        "id": "Upx8eAO0idqF",
        "outputId": "ae76d914-dda8-48de-fd5e-db1dbf2d40f2"
      },
      "source": [
        "for i in range (1, epochs + 1):\n",
        "    print ('epoch ' + str (i))\n",
        "    golois.getBatch (input_data, policy, value, end, groups)\n",
        "    history = model.fit(input_data,\n",
        "                        {'policy': policy, 'value': value}, \n",
        "                        epochs=1,\n",
        "                        batch_size=batch)\n",
        " \n",
        "    # Pour garder la trace de l'historique\n",
        "    for k,v in history.history.items():\n",
        "      old_history[k].extend(v)\n",
        "\n",
        "    if (i % 5 == 0):\n",
        "        golois.getValidation (input_data, policy, value, end)\n",
        "        val = model.evaluate (input_data,\n",
        "                              [policy, value], verbose = 0, batch_size=batch)\n",
        "        print (\"val =\", val)\n",
        " \n",
        "        val_history[\"val_loss\"].append(val[0])\n",
        "        val_history[\"val_policy_loss\"].append(val[1])\n",
        "        val_history[\"val_value_loss\"].append(val[2])\n",
        "        val_history[\"val_policy_categorical_accuracy\"].append(val[3])\n",
        "        val_history[\"val_value_mse\"].append(val[4])"
      ],
      "execution_count": null,
      "outputs": [
        {
          "output_type": "stream",
          "text": [
            "epoch 1\n",
            "782/782 [==============================] - 330s 411ms/step - loss: 2.7851 - policy_loss: 1.9978 - value_loss: 0.5781 - policy_categorical_accuracy: 0.4516 - value_mse: 0.2021\n",
            "epoch 2\n",
            "782/782 [==============================] - 322s 411ms/step - loss: 2.7925 - policy_loss: 2.0067 - value_loss: 0.5775 - policy_categorical_accuracy: 0.4482 - value_mse: 0.2020\n",
            "epoch 3\n",
            "782/782 [==============================] - 321s 411ms/step - loss: 2.7854 - policy_loss: 2.0043 - value_loss: 0.5737 - policy_categorical_accuracy: 0.4486 - value_mse: 0.2004\n",
            "epoch 4\n",
            "782/782 [==============================] - 322s 411ms/step - loss: 2.7817 - policy_loss: 2.0008 - value_loss: 0.5744 - policy_categorical_accuracy: 0.4486 - value_mse: 0.2008\n",
            "epoch 5\n",
            "782/782 [==============================] - 321s 411ms/step - loss: 2.7752 - policy_loss: 1.9938 - value_loss: 0.5757 - policy_categorical_accuracy: 0.4498 - value_mse: 0.2013\n",
            "val = [2.8044559955596924, 2.0014426708221436, 0.5975750088691711, 0.44916999340057373, 0.20956537127494812]\n",
            "epoch 6\n",
            "782/782 [==============================] - 321s 411ms/step - loss: 2.7827 - policy_loss: 2.0018 - value_loss: 0.5758 - policy_categorical_accuracy: 0.4490 - value_mse: 0.2012\n",
            "epoch 7\n",
            "782/782 [==============================] - 322s 411ms/step - loss: 2.7805 - policy_loss: 2.0002 - value_loss: 0.5759 - policy_categorical_accuracy: 0.4464 - value_mse: 0.2014\n",
            "epoch 8\n",
            "782/782 [==============================] - 321s 411ms/step - loss: 2.7751 - policy_loss: 2.0000 - value_loss: 0.5715 - policy_categorical_accuracy: 0.4493 - value_mse: 0.1995\n",
            "epoch 9\n",
            "782/782 [==============================] - 321s 411ms/step - loss: 2.7654 - policy_loss: 1.9873 - value_loss: 0.5752 - policy_categorical_accuracy: 0.4525 - value_mse: 0.2010\n",
            "epoch 10\n",
            "782/782 [==============================] - 321s 411ms/step - loss: 2.7716 - policy_loss: 1.9981 - value_loss: 0.5713 - policy_categorical_accuracy: 0.4487 - value_mse: 0.1993\n",
            "val = [2.7744202613830566, 1.9929014444351196, 0.5796120166778564, 0.45155999064445496, 0.20246674120426178]\n",
            "epoch 11\n",
            "782/782 [==============================] - 321s 410ms/step - loss: 2.7560 - policy_loss: 1.9791 - value_loss: 0.5754 - policy_categorical_accuracy: 0.4526 - value_mse: 0.2012\n",
            "epoch 12\n",
            "782/782 [==============================] - 321s 411ms/step - loss: 2.7642 - policy_loss: 1.9895 - value_loss: 0.5737 - policy_categorical_accuracy: 0.4512 - value_mse: 0.2004\n",
            "epoch 13\n",
            "782/782 [==============================] - 321s 411ms/step - loss: 2.7574 - policy_loss: 1.9817 - value_loss: 0.5755 - policy_categorical_accuracy: 0.4528 - value_mse: 0.2011\n",
            "epoch 14\n",
            "782/782 [==============================] - 321s 411ms/step - loss: 2.7543 - policy_loss: 1.9848 - value_loss: 0.5699 - policy_categorical_accuracy: 0.4519 - value_mse: 0.1991\n",
            "epoch 15\n",
            "782/782 [==============================] - 321s 411ms/step - loss: 2.7420 - policy_loss: 1.9729 - value_loss: 0.5701 - policy_categorical_accuracy: 0.4525 - value_mse: 0.1992\n",
            "val = [2.756627082824707, 1.9796078205108643, 0.5783328413963318, 0.45555999875068665, 0.2019997090101242]\n",
            "epoch 16\n",
            "782/782 [==============================] - 321s 411ms/step - loss: 2.7469 - policy_loss: 1.9734 - value_loss: 0.5751 - policy_categorical_accuracy: 0.4541 - value_mse: 0.2011\n",
            "epoch 17\n",
            "782/782 [==============================] - 321s 411ms/step - loss: 2.7376 - policy_loss: 1.9703 - value_loss: 0.5695 - policy_categorical_accuracy: 0.4538 - value_mse: 0.1991\n",
            "epoch 18\n",
            "782/782 [==============================] - 321s 411ms/step - loss: 2.7509 - policy_loss: 1.9827 - value_loss: 0.5710 - policy_categorical_accuracy: 0.4519 - value_mse: 0.1995\n",
            "epoch 19\n",
            "782/782 [==============================] - 321s 411ms/step - loss: 2.7462 - policy_loss: 1.9781 - value_loss: 0.5714 - policy_categorical_accuracy: 0.4519 - value_mse: 0.1995\n",
            "epoch 20\n",
            "782/782 [==============================] - 321s 411ms/step - loss: 2.7427 - policy_loss: 1.9748 - value_loss: 0.5719 - policy_categorical_accuracy: 0.4547 - value_mse: 0.1996\n",
            "val = [2.735724449157715, 1.9625661373138428, 0.5773558616638184, 0.4548499882221222, 0.20197249948978424]\n"
          ],
          "name": "stdout"
        }
      ]
    },
    {
      "cell_type": "code",
      "metadata": {
        "colab": {
          "base_uri": "https://localhost:8080/"
        },
        "id": "2fUjdA97fNxQ",
        "outputId": "51264384-83ab-42e3-eaf1-04fdffb28e78"
      },
      "source": [
        "print(\"Last val : \",val)"
      ],
      "execution_count": null,
      "outputs": [
        {
          "output_type": "stream",
          "text": [
            "Last val :  [2.7171525955200195, 1.9903762340545654, 0.5596851706504822, 0.4496000111103058, 0.19496023654937744]\n"
          ],
          "name": "stdout"
        }
      ]
    },
    {
      "cell_type": "markdown",
      "metadata": {
        "id": "IXV7Sf3cjPy0"
      },
      "source": [
        "#### Saving"
      ]
    },
    {
      "cell_type": "markdown",
      "metadata": {
        "id": "1ubcgT4zn9Lc"
      },
      "source": [
        "Model"
      ]
    },
    {
      "cell_type": "code",
      "metadata": {
        "id": "qvg0YMivXNMA"
      },
      "source": [
        "model.save('reseau.h5')"
      ],
      "execution_count": null,
      "outputs": []
    },
    {
      "cell_type": "markdown",
      "metadata": {
        "id": "abBxZvNUn-NA"
      },
      "source": [
        "History"
      ]
    },
    {
      "cell_type": "code",
      "metadata": {
        "id": "75URZGcKoBcw"
      },
      "source": [
        "history = {'train_history': old_history,\n",
        "            'val_history': val_history\n",
        "            }\n",
        "with open(\"history.json\",\"w\") as f :\n",
        "  json.dump(history, f)"
      ],
      "execution_count": null,
      "outputs": []
    },
    {
      "cell_type": "markdown",
      "metadata": {
        "id": "O944dGiNqEko"
      },
      "source": [
        "# 3. Analyse"
      ]
    },
    {
      "cell_type": "markdown",
      "metadata": {
        "id": "E1dq_fvjwm3L"
      },
      "source": [
        "#### Imports"
      ]
    },
    {
      "cell_type": "code",
      "metadata": {
        "id": "lLv73eEvqLVG"
      },
      "source": [
        "import golois\n",
        "import math\n",
        "import numpy as np\n",
        "import keras\n",
        "import matplotlib.pyplot as plt\n",
        "import matplotlib\n",
        "import pickle\n",
        "import json\n",
        " \n",
        "COLOR = 'black'\n",
        "matplotlib.rcParams['text.color'] = COLOR\n",
        "matplotlib.rcParams['axes.labelcolor'] = COLOR\n",
        "matplotlib.rcParams['xtick.color'] = COLOR\n",
        "matplotlib.rcParams['ytick.color'] = COLOR"
      ],
      "execution_count": null,
      "outputs": []
    },
    {
      "cell_type": "markdown",
      "metadata": {
        "id": "VkBFrUZbQNGK"
      },
      "source": [
        "Loading model and data"
      ]
    },
    {
      "cell_type": "code",
      "metadata": {
        "id": "CI8gNB0IqD0x"
      },
      "source": [
        "#model = keras.models.load_model(\"reseau.h5\")\n",
        "history = json.load(open('history.json','r'))\n",
        "train_history = history['train_history']\n",
        "val_history = history['val_history']"
      ],
      "execution_count": null,
      "outputs": []
    },
    {
      "cell_type": "code",
      "metadata": {
        "id": "LowWCRz3vElR"
      },
      "source": [
        "planes = 21\r\n",
        "moves = 361\r\n",
        "N = 100000\r\n",
        "batch = 512"
      ],
      "execution_count": null,
      "outputs": []
    },
    {
      "cell_type": "code",
      "metadata": {
        "id": "Q2Ad_bmBqJu-"
      },
      "source": [
        "\r\n",
        "input_data = np.random.randint(2, size=(N, 19, 19, planes))\r\n",
        "input_data = input_data.astype ('float32')\r\n",
        "\r\n",
        "policy = np.random.randint(moves, size=(N,))\r\n",
        "policy = keras.utils.to_categorical (policy)\r\n",
        "\r\n",
        "value = np.random.randint(2, size=(N,))\r\n",
        "value = value.astype ('float32')\r\n",
        "\r\n",
        "end = np.random.randint(2, size=(N, 19, 19, 2))\r\n",
        "end = end.astype ('float32')\r\n",
        "\r\n",
        "groups = np.zeros((N, 19, 19, 1))\r\n",
        "groups = groups.astype ('float32')\r\n"
      ],
      "execution_count": null,
      "outputs": []
    },
    {
      "cell_type": "code",
      "metadata": {
        "id": "tT9hjOzEvbq5"
      },
      "source": [
        "golois.getValidation (input_data, policy, value, end)\r\n",
        "val = model.evaluate (input_data,\r\n",
        "                      [policy, value], verbose = 0, batch_size=batch)"
      ],
      "execution_count": null,
      "outputs": []
    }
  ]
}
